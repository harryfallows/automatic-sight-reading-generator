{
 "cells": [
  {
   "cell_type": "markdown",
   "metadata": {},
   "source": [
    "Create Test Pieces\n",
    "===============\n",
    "Creates pdf pages of pieces for human evaluation."
   ]
  },
  {
   "cell_type": "code",
   "execution_count": null,
   "metadata": {},
   "outputs": [],
   "source": [
    "import os\n",
    "from music21 import *"
   ]
  },
  {
   "cell_type": "code",
   "execution_count": null,
   "metadata": {},
   "outputs": [],
   "source": [
    "real_data = \"\" #file containing original pieces"
   ]
  },
  {
   "cell_type": "code",
   "execution_count": null,
   "metadata": {},
   "outputs": [],
   "source": [
    "lstm_files = \"\" #model folder being evaluated"
   ]
  },
  {
   "cell_type": "code",
   "execution_count": null,
   "metadata": {},
   "outputs": [],
   "source": [
    "test_data = []"
   ]
  },
  {
   "cell_type": "code",
   "execution_count": null,
   "metadata": {},
   "outputs": [],
   "source": [
    "streams = []\n",
    "file_names = []\n",
    "for file in os.listdir(real_data):\n",
    "    if \"mxl\" in file:\n",
    "        streams.append(converter.parse(real_data+file))\n",
    "        file_names.append(file)\n",
    "print(len(file_names))"
   ]
  },
  {
   "cell_type": "code",
   "execution_count": null,
   "metadata": {},
   "outputs": [],
   "source": [
    "def remove_unwanteds(parts, file_names):\n",
    "    cleaned_parts = []\n",
    "    new_file_names = []\n",
    "    for i, a in enumerate(parts):\n",
    "        a = instrument.partitionByInstrument(a)[0]\n",
    "        if a.timeSignature.ratioString == \"6/8\":\n",
    "            a.remove(list(a.getElementsByClass(\"TextExpression\")))\n",
    "            a.remove(list(a.getElementsByClass(\"Dynamic\")))\n",
    "            a.remove(list(a.getElementsByClass(\"Dynamics\")))\n",
    "            a.remove([x for x in a.getElementsByClass(\"Spanner\") if not isinstance(x, spanner.Slur)])\n",
    "            for x in a.getElementsByClass(\"Note\"):\n",
    "                x.articulations=[]\n",
    "                x.expressions=[]\n",
    "            cleaned_parts.append(a)\n",
    "            new_file_names.append(file_names[i])\n",
    "    return cleaned_parts, new_file_names"
   ]
  },
  {
   "cell_type": "code",
   "execution_count": null,
   "metadata": {},
   "outputs": [],
   "source": [
    "cleaned_streams, file_names = remove_unwanteds(streams, file_names)"
   ]
  },
  {
   "cell_type": "code",
   "execution_count": null,
   "metadata": {},
   "outputs": [],
   "source": [
    "real_piece_folder = lstm_files + \"real_pieces\"\n",
    "try:\n",
    "    os.mkdir(real_piece_folder)\n",
    "except:\n",
    "    pass\n",
    "for p,f in zip(cleaned_streams, file_names):\n",
    "    p.write('xml', fp='{}/{}.xml'.format(real_piece_folder, f))"
   ]
  },
  {
   "cell_type": "code",
   "execution_count": null,
   "metadata": {},
   "outputs": [],
   "source": [
    "from fpdf import FPDF\n",
    "from PIL import Image\n",
    "\n",
    "import img2pdf"
   ]
  },
  {
   "cell_type": "code",
   "execution_count": null,
   "metadata": {},
   "outputs": [],
   "source": [
    "from math import ceil\n",
    "def write_scores_to_pdf(score_images, no_alpha_image_files, concated_file_names, output_file):\n",
    "    for si, naif in zip(score_images, no_alpha_image_files):\n",
    "        image = Image.open(si)\n",
    "        new_img = Image.new(\"RGB\", (image.size[0],image.size[1]), (255, 255, 255))\n",
    "        cmp_img = Image.composite(image, new_img, image).quantize(colors=256, method=2)\n",
    "        cmp_img.save(naif)\n",
    "    #images_per_page = ceil(len(no_alpha_image_files)/len(concated_file_names))\n",
    "    images_per_page = 3\n",
    "    for idx, fn in enumerate(concated_file_names):\n",
    "        cc_file = get_concat_v(no_alpha_image_files[idx*images_per_page:(idx+1)*images_per_page])\n",
    "        cc_file.save(fn)\n",
    "    letter = (img2pdf.in_to_pt(8.27), img2pdf.in_to_pt(11.69))\n",
    "    layout = img2pdf.get_layout_fun(letter)\n",
    "    with open(output_file, \"wb\") as f:\n",
    "        f.write(img2pdf.convert(concated_file_names, layout_fun=layout, margin=100))\n",
    "def get_concat_v(images):\n",
    "    print(images)\n",
    "    opened_images = [Image.open(i) for i in images]\n",
    "    top_margin = 200\n",
    "    side_margin = 50\n",
    "    spacing = 300\n",
    "    dst = Image.new('RGB', (opened_images[0].width + 2*side_margin, sum([oi.height for oi in opened_images])+2*top_margin+3*spacing), color=(255,255,255))\n",
    "    last_img_height = top_margin\n",
    "    for i in opened_images:\n",
    "        dst.paste(i, (side_margin, last_img_height))\n",
    "        last_img_height=i.height + last_img_height + spacing     \n",
    "    return dst"
   ]
  },
  {
   "cell_type": "code",
   "execution_count": null,
   "metadata": {},
   "outputs": [],
   "source": [
    "import random\n",
    "def get_test_print_outs(output_folder):\n",
    "    folders = [x[0] for x in os.walk(output_folder)]\n",
    "    try:\n",
    "      folders.remove(output_folder)\n",
    "    except ValueError:\n",
    "      pass\n",
    "    print(folders)\n",
    "    test_files = []\n",
    "    files = []\n",
    "    for f in folders:\n",
    "        f_files = []\n",
    "        for i, file in enumerate(random.sample(list(os.listdir(f)), 18)):\n",
    "            if \".xml\" not in file:\n",
    "                continue\n",
    "            conv = converter.subConverters.ConverterMusicXML()\n",
    "            # conv.write(parts_paths[0], fmt='musicxml.png', fp='file', subformats=['png'])\n",
    "            piece = converter.parse(f+\"/\"+file)\n",
    "            files.append(file)\n",
    "            instrument_parts = instrument.partitionByInstrument(piece)\n",
    "            violin_part = instrument_parts[0]\n",
    "            image_file = violin_part.write(\"musicxml.png\")\n",
    "            f_files.append(image_file)\n",
    "        test_files.append(f_files)\n",
    "    return test_files, files\n",
    "\n",
    "def write_to_score(test_files):\n",
    "    #split_into_pages = [[test_files[0][i], test_files[1][i], test_files[2][i], test_files[3][i]] for i in range(10)]#split_into_pages = [[test_files[0][i], test_files[1][i], test_files[2][i], test_files[3][i]] for i in range(10)]\n",
    "    split_into_pages = [[test_files[0][i], test_files[1][i], test_files[2][i]] for i in range(18)]\n",
    "    flat_pages = []\n",
    "    for s in split_into_pages:\n",
    "        flat_pages += s\n",
    "    print(flat_pages)\n",
    "    write_scores_to_pdf(flat_pages, [\"test_score_images/{}\".format(f.split(\"/\")[-1]) for f in flat_pages], [\"concat_image_{}.png\".format(i) for i in range(len(split_into_pages))], \"test_files.pdf\")\n",
    "    return split_into_pages\n",
    "        \n",
    "    "
   ]
  },
  {
   "cell_type": "code",
   "execution_count": null,
   "metadata": {},
   "outputs": [],
   "source": [
    "test_files, files = get_test_print_outs(lstm_files)"
   ]
  },
  {
   "cell_type": "code",
   "execution_count": null,
   "metadata": {},
   "outputs": [],
   "source": [
    "test_files_copy = test_files\n",
    "test_files_copy[0] = test_files_copy[0][:18]\n",
    "write_to_score(test_files_copy)"
   ]
  }
 ],
 "metadata": {
  "kernelspec": {
   "display_name": "Python 3",
   "language": "python",
   "name": "python3"
  },
  "language_info": {
   "codemirror_mode": {
    "name": "ipython",
    "version": 3
   },
   "file_extension": ".py",
   "mimetype": "text/x-python",
   "name": "python",
   "nbconvert_exporter": "python",
   "pygments_lexer": "ipython3",
   "version": "3.7.4"
  }
 },
 "nbformat": 4,
 "nbformat_minor": 2
}
