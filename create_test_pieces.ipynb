{
 "cells": [
  {
   "cell_type": "markdown",
   "metadata": {},
   "source": [
    "Create Test Pieces\n",
    "===============\n",
    "Creates pdf pages of pieces for human evaluation."
   ]
  },
  {
   "cell_type": "code",
   "execution_count": 134,
   "metadata": {},
   "outputs": [],
   "source": [
    "import os\n",
    "from music21 import *"
   ]
  },
  {
   "cell_type": "code",
   "execution_count": 135,
   "metadata": {},
   "outputs": [],
   "source": [
    "real_data = \"\" #file containing original pieces"
   ]
  },
  {
   "cell_type": "code",
   "execution_count": 136,
   "metadata": {},
   "outputs": [],
   "source": [
    "lstm_files = \"\" #model folder being evaluated"
   ]
  },
  {
   "cell_type": "code",
   "execution_count": 138,
   "metadata": {},
   "outputs": [],
   "source": [
    "test_data = []"
   ]
  },
  {
   "cell_type": "code",
   "execution_count": 139,
   "metadata": {},
   "outputs": [
    {
     "name": "stdout",
     "output_type": "stream",
     "text": [
      "47\n"
     ]
    }
   ],
   "source": [
    "streams = []\n",
    "file_names = []\n",
    "for file in os.listdir(real_data):\n",
    "    if \"mxl\" in file:\n",
    "        streams.append(converter.parse(real_data+file))\n",
    "        file_names.append(file)\n",
    "print(len(file_names))"
   ]
  },
  {
   "cell_type": "code",
   "execution_count": 140,
   "metadata": {},
   "outputs": [],
   "source": [
    "def remove_unwanteds(parts, file_names):\n",
    "    cleaned_parts = []\n",
    "    new_file_names = []\n",
    "    for i, a in enumerate(parts):\n",
    "        a = instrument.partitionByInstrument(a)[0]\n",
    "        if a.timeSignature.ratioString == \"6/8\":\n",
    "            a.remove(list(a.getElementsByClass(\"TextExpression\")))\n",
    "            a.remove(list(a.getElementsByClass(\"Dynamic\")))\n",
    "            a.remove(list(a.getElementsByClass(\"Dynamics\")))\n",
    "            a.remove([x for x in a.getElementsByClass(\"Spanner\") if not isinstance(x, spanner.Slur)])\n",
    "            for x in a.getElementsByClass(\"Note\"):\n",
    "                x.articulations=[]\n",
    "                x.expressions=[]\n",
    "            cleaned_parts.append(a)\n",
    "            new_file_names.append(file_names[i])\n",
    "    return cleaned_parts, new_file_names"
   ]
  },
  {
   "cell_type": "code",
   "execution_count": 141,
   "metadata": {},
   "outputs": [],
   "source": [
    "cleaned_streams, file_names = remove_unwanteds(streams, file_names)"
   ]
  },
  {
   "cell_type": "code",
   "execution_count": 142,
   "metadata": {},
   "outputs": [],
   "source": [
    "real_piece_folder = lstm_files + \"real_pieces\"\n",
    "try:\n",
    "    os.mkdir(real_piece_folder)\n",
    "except:\n",
    "    pass\n",
    "for p,f in zip(cleaned_streams, file_names):\n",
    "    p.write('xml', fp='{}/{}.xml'.format(real_piece_folder, f))"
   ]
  },
  {
   "cell_type": "code",
   "execution_count": 143,
   "metadata": {},
   "outputs": [],
   "source": [
    "from fpdf import FPDF\n",
    "from PIL import Image\n",
    "\n",
    "import img2pdf"
   ]
  },
  {
   "cell_type": "code",
   "execution_count": 144,
   "metadata": {},
   "outputs": [],
   "source": [
    "from math import ceil\n",
    "def write_scores_to_pdf(score_images, no_alpha_image_files, concated_file_names, output_file):\n",
    "    for si, naif in zip(score_images, no_alpha_image_files):\n",
    "        image = Image.open(si)\n",
    "        new_img = Image.new(\"RGB\", (image.size[0],image.size[1]), (255, 255, 255))\n",
    "        cmp_img = Image.composite(image, new_img, image).quantize(colors=256, method=2)\n",
    "        cmp_img.save(naif)\n",
    "    #images_per_page = ceil(len(no_alpha_image_files)/len(concated_file_names))\n",
    "    images_per_page = 3\n",
    "    for idx, fn in enumerate(concated_file_names):\n",
    "        cc_file = get_concat_v(no_alpha_image_files[idx*images_per_page:(idx+1)*images_per_page])\n",
    "        cc_file.save(fn)\n",
    "    letter = (img2pdf.in_to_pt(8.27), img2pdf.in_to_pt(11.69))\n",
    "    layout = img2pdf.get_layout_fun(letter)\n",
    "    with open(output_file, \"wb\") as f:\n",
    "        f.write(img2pdf.convert(concated_file_names, layout_fun=layout, margin=100))\n",
    "def get_concat_v(images):\n",
    "    print(images)\n",
    "    opened_images = [Image.open(i) for i in images]\n",
    "    top_margin = 200\n",
    "    side_margin = 50\n",
    "    spacing = 300\n",
    "    dst = Image.new('RGB', (opened_images[0].width + 2*side_margin, sum([oi.height for oi in opened_images])+2*top_margin+3*spacing), color=(255,255,255))\n",
    "    last_img_height = top_margin\n",
    "    for i in opened_images:\n",
    "        dst.paste(i, (side_margin, last_img_height))\n",
    "        last_img_height=i.height + last_img_height + spacing     \n",
    "    return dst"
   ]
  },
  {
   "cell_type": "code",
   "execution_count": 145,
   "metadata": {},
   "outputs": [],
   "source": [
    "import random\n",
    "def get_test_print_outs(output_folder):\n",
    "    folders = [x[0] for x in os.walk(output_folder)]\n",
    "    try:\n",
    "      folders.remove(output_folder)\n",
    "    except ValueError:\n",
    "      pass\n",
    "    print(folders)\n",
    "    test_files = []\n",
    "    files = []\n",
    "    for f in folders:\n",
    "        f_files = []\n",
    "        for i, file in enumerate(random.sample(list(os.listdir(f)), 18)):\n",
    "            if \".xml\" not in file:\n",
    "                continue\n",
    "            conv = converter.subConverters.ConverterMusicXML()\n",
    "            # conv.write(parts_paths[0], fmt='musicxml.png', fp='file', subformats=['png'])\n",
    "            piece = converter.parse(f+\"/\"+file)\n",
    "            files.append(file)\n",
    "            instrument_parts = instrument.partitionByInstrument(piece)\n",
    "            violin_part = instrument_parts[0]\n",
    "            image_file = violin_part.write(\"musicxml.png\")\n",
    "            f_files.append(image_file)\n",
    "        test_files.append(f_files)\n",
    "    return test_files, files\n",
    "\n",
    "def write_to_score(test_files):\n",
    "    #split_into_pages = [[test_files[0][i], test_files[1][i], test_files[2][i], test_files[3][i]] for i in range(10)]#split_into_pages = [[test_files[0][i], test_files[1][i], test_files[2][i], test_files[3][i]] for i in range(10)]\n",
    "    split_into_pages = [[test_files[0][i], test_files[1][i], test_files[2][i]] for i in range(18)]\n",
    "    flat_pages = []\n",
    "    for s in split_into_pages:\n",
    "        flat_pages += s\n",
    "    print(flat_pages)\n",
    "    write_scores_to_pdf(flat_pages, [\"test_score_images/{}\".format(f.split(\"/\")[-1]) for f in flat_pages], [\"concat_image_{}.png\".format(i) for i in range(len(split_into_pages))], \"test_files.pdf\")\n",
    "    return split_into_pages\n",
    "        \n",
    "    "
   ]
  },
  {
   "cell_type": "code",
   "execution_count": 146,
   "metadata": {},
   "outputs": [
    {
     "name": "stdout",
     "output_type": "stream",
     "text": [
      "['slurs_notes_gs_1/hit_features-sn_augmented_T-lstm_units-512_dropout-0.3_lstm_layers-3_single_loss_function-categorical_crossentropy_multi_loss_function-binary_crossentropy_optimiser-adam_epochs-60_last_layer_inputs-F_Sun-05-Apr-19-23-30/test_results/loss/generated_scores/from_ends', 'slurs_notes_gs_1/hit_features-sn_augmented_T-lstm_units-512_dropout-0.3_lstm_layers-3_single_loss_function-categorical_crossentropy_multi_loss_function-binary_crossentropy_optimiser-adam_epochs-60_last_layer_inputs-F_Sun-05-Apr-19-23-30/test_results/loss/generated_scores/real_pieces', 'slurs_notes_gs_1/hit_features-sn_augmented_T-lstm_units-512_dropout-0.3_lstm_layers-3_single_loss_function-categorical_crossentropy_multi_loss_function-binary_crossentropy_optimiser-adam_epochs-60_last_layer_inputs-F_Sun-05-Apr-19-23-30/test_results/loss/generated_scores/from_artificial_seeds']\n"
     ]
    }
   ],
   "source": [
    "test_files, files = get_test_print_outs(lstm_files)"
   ]
  },
  {
   "cell_type": "code",
   "execution_count": 147,
   "metadata": {},
   "outputs": [
    {
     "name": "stdout",
     "output_type": "stream",
     "text": [
      "18\n",
      "['/var/folders/tt/j5m0x77x21j4d074z9vtrmrc0000gn/T/music21/tmp5e_4qqsx-1.png', '/var/folders/tt/j5m0x77x21j4d074z9vtrmrc0000gn/T/music21/tmpimp42gmm-1.png', '/var/folders/tt/j5m0x77x21j4d074z9vtrmrc0000gn/T/music21/tmpg8zx2186-1.png', '/var/folders/tt/j5m0x77x21j4d074z9vtrmrc0000gn/T/music21/tmpkjc182el-1.png', '/var/folders/tt/j5m0x77x21j4d074z9vtrmrc0000gn/T/music21/tmpdwhuv0oz-1.png', '/var/folders/tt/j5m0x77x21j4d074z9vtrmrc0000gn/T/music21/tmpuxoswjmw-1.png', '/var/folders/tt/j5m0x77x21j4d074z9vtrmrc0000gn/T/music21/tmpddixzpgp-1.png', '/var/folders/tt/j5m0x77x21j4d074z9vtrmrc0000gn/T/music21/tmpnkxxihh_-1.png', '/var/folders/tt/j5m0x77x21j4d074z9vtrmrc0000gn/T/music21/tmpog2rlxzd-1.png', '/var/folders/tt/j5m0x77x21j4d074z9vtrmrc0000gn/T/music21/tmpuzgfenhp-1.png', '/var/folders/tt/j5m0x77x21j4d074z9vtrmrc0000gn/T/music21/tmpjztoyias-1.png', '/var/folders/tt/j5m0x77x21j4d074z9vtrmrc0000gn/T/music21/tmpgd0ue3jn-1.png', '/var/folders/tt/j5m0x77x21j4d074z9vtrmrc0000gn/T/music21/tmp_6j669n4-1.png', '/var/folders/tt/j5m0x77x21j4d074z9vtrmrc0000gn/T/music21/tmpupi7k_l9-1.png', '/var/folders/tt/j5m0x77x21j4d074z9vtrmrc0000gn/T/music21/tmp40kxh7k2-1.png', '/var/folders/tt/j5m0x77x21j4d074z9vtrmrc0000gn/T/music21/tmpjm22jzpw-1.png', '/var/folders/tt/j5m0x77x21j4d074z9vtrmrc0000gn/T/music21/tmppnh_gh5a-1.png', '/var/folders/tt/j5m0x77x21j4d074z9vtrmrc0000gn/T/music21/tmph1z8ccbw-1.png', '/var/folders/tt/j5m0x77x21j4d074z9vtrmrc0000gn/T/music21/tmpk9fawm8t-1.png', '/var/folders/tt/j5m0x77x21j4d074z9vtrmrc0000gn/T/music21/tmp_rsavgs3-1.png', '/var/folders/tt/j5m0x77x21j4d074z9vtrmrc0000gn/T/music21/tmpb4ffjzmt-1.png', '/var/folders/tt/j5m0x77x21j4d074z9vtrmrc0000gn/T/music21/tmprhtgsa6i-1.png', '/var/folders/tt/j5m0x77x21j4d074z9vtrmrc0000gn/T/music21/tmpz_nmjor7-1.png', '/var/folders/tt/j5m0x77x21j4d074z9vtrmrc0000gn/T/music21/tmplvt9wnhg-1.png', '/var/folders/tt/j5m0x77x21j4d074z9vtrmrc0000gn/T/music21/tmpuppayrmt-1.png', '/var/folders/tt/j5m0x77x21j4d074z9vtrmrc0000gn/T/music21/tmp2tcbspqi-1.png', '/var/folders/tt/j5m0x77x21j4d074z9vtrmrc0000gn/T/music21/tmpf1vk26zw-1.png', '/var/folders/tt/j5m0x77x21j4d074z9vtrmrc0000gn/T/music21/tmpzgzhv66c-1.png', '/var/folders/tt/j5m0x77x21j4d074z9vtrmrc0000gn/T/music21/tmpjw_k7kx6-1.png', '/var/folders/tt/j5m0x77x21j4d074z9vtrmrc0000gn/T/music21/tmpx4wi4_wv-1.png', '/var/folders/tt/j5m0x77x21j4d074z9vtrmrc0000gn/T/music21/tmpcvttwykh-1.png', '/var/folders/tt/j5m0x77x21j4d074z9vtrmrc0000gn/T/music21/tmpyxz21ua7-1.png', '/var/folders/tt/j5m0x77x21j4d074z9vtrmrc0000gn/T/music21/tmpeqfz3v0n-1.png', '/var/folders/tt/j5m0x77x21j4d074z9vtrmrc0000gn/T/music21/tmpaaq0dt3j-1.png', '/var/folders/tt/j5m0x77x21j4d074z9vtrmrc0000gn/T/music21/tmp9wxwglhr-1.png', '/var/folders/tt/j5m0x77x21j4d074z9vtrmrc0000gn/T/music21/tmpuxnd7eth-1.png', '/var/folders/tt/j5m0x77x21j4d074z9vtrmrc0000gn/T/music21/tmpi752wbq5-1.png', '/var/folders/tt/j5m0x77x21j4d074z9vtrmrc0000gn/T/music21/tmp5xa0nk4k-1.png', '/var/folders/tt/j5m0x77x21j4d074z9vtrmrc0000gn/T/music21/tmph_owkxdu-1.png', '/var/folders/tt/j5m0x77x21j4d074z9vtrmrc0000gn/T/music21/tmpvpjxgr8v-1.png', '/var/folders/tt/j5m0x77x21j4d074z9vtrmrc0000gn/T/music21/tmpkvhuy2za-1.png', '/var/folders/tt/j5m0x77x21j4d074z9vtrmrc0000gn/T/music21/tmpvei4eyjq-1.png', '/var/folders/tt/j5m0x77x21j4d074z9vtrmrc0000gn/T/music21/tmpa_me1tcs-1.png', '/var/folders/tt/j5m0x77x21j4d074z9vtrmrc0000gn/T/music21/tmppn20xqpt-1.png', '/var/folders/tt/j5m0x77x21j4d074z9vtrmrc0000gn/T/music21/tmpz90591tz-1.png', '/var/folders/tt/j5m0x77x21j4d074z9vtrmrc0000gn/T/music21/tmpoq6e49is-1.png', '/var/folders/tt/j5m0x77x21j4d074z9vtrmrc0000gn/T/music21/tmpckdahwbi-1.png', '/var/folders/tt/j5m0x77x21j4d074z9vtrmrc0000gn/T/music21/tmpcjm1rpo4-1.png', '/var/folders/tt/j5m0x77x21j4d074z9vtrmrc0000gn/T/music21/tmpwsfcxyt3-1.png', '/var/folders/tt/j5m0x77x21j4d074z9vtrmrc0000gn/T/music21/tmp6ewc5bxl-1.png', '/var/folders/tt/j5m0x77x21j4d074z9vtrmrc0000gn/T/music21/tmp62e9v_fa-1.png', '/var/folders/tt/j5m0x77x21j4d074z9vtrmrc0000gn/T/music21/tmpaz6kgcro-1.png', '/var/folders/tt/j5m0x77x21j4d074z9vtrmrc0000gn/T/music21/tmpf9xjqua9-1.png', '/var/folders/tt/j5m0x77x21j4d074z9vtrmrc0000gn/T/music21/tmp6hk9m68g-1.png']\n",
      "['test_score_images/tmp5e_4qqsx-1.png', 'test_score_images/tmpimp42gmm-1.png', 'test_score_images/tmpg8zx2186-1.png']\n",
      "['test_score_images/tmpkjc182el-1.png', 'test_score_images/tmpdwhuv0oz-1.png', 'test_score_images/tmpuxoswjmw-1.png']\n",
      "['test_score_images/tmpddixzpgp-1.png', 'test_score_images/tmpnkxxihh_-1.png', 'test_score_images/tmpog2rlxzd-1.png']\n",
      "['test_score_images/tmpuzgfenhp-1.png', 'test_score_images/tmpjztoyias-1.png', 'test_score_images/tmpgd0ue3jn-1.png']\n",
      "['test_score_images/tmp_6j669n4-1.png', 'test_score_images/tmpupi7k_l9-1.png', 'test_score_images/tmp40kxh7k2-1.png']\n",
      "['test_score_images/tmpjm22jzpw-1.png', 'test_score_images/tmppnh_gh5a-1.png', 'test_score_images/tmph1z8ccbw-1.png']\n",
      "['test_score_images/tmpk9fawm8t-1.png', 'test_score_images/tmp_rsavgs3-1.png', 'test_score_images/tmpb4ffjzmt-1.png']\n",
      "['test_score_images/tmprhtgsa6i-1.png', 'test_score_images/tmpz_nmjor7-1.png', 'test_score_images/tmplvt9wnhg-1.png']\n",
      "['test_score_images/tmpuppayrmt-1.png', 'test_score_images/tmp2tcbspqi-1.png', 'test_score_images/tmpf1vk26zw-1.png']\n",
      "['test_score_images/tmpzgzhv66c-1.png', 'test_score_images/tmpjw_k7kx6-1.png', 'test_score_images/tmpx4wi4_wv-1.png']\n",
      "['test_score_images/tmpcvttwykh-1.png', 'test_score_images/tmpyxz21ua7-1.png', 'test_score_images/tmpeqfz3v0n-1.png']\n",
      "['test_score_images/tmpaaq0dt3j-1.png', 'test_score_images/tmp9wxwglhr-1.png', 'test_score_images/tmpuxnd7eth-1.png']\n",
      "['test_score_images/tmpi752wbq5-1.png', 'test_score_images/tmp5xa0nk4k-1.png', 'test_score_images/tmph_owkxdu-1.png']\n",
      "['test_score_images/tmpvpjxgr8v-1.png', 'test_score_images/tmpkvhuy2za-1.png', 'test_score_images/tmpvei4eyjq-1.png']\n",
      "['test_score_images/tmpa_me1tcs-1.png', 'test_score_images/tmppn20xqpt-1.png', 'test_score_images/tmpz90591tz-1.png']\n",
      "['test_score_images/tmpoq6e49is-1.png', 'test_score_images/tmpckdahwbi-1.png', 'test_score_images/tmpcjm1rpo4-1.png']\n",
      "['test_score_images/tmpwsfcxyt3-1.png', 'test_score_images/tmp6ewc5bxl-1.png', 'test_score_images/tmp62e9v_fa-1.png']\n",
      "['test_score_images/tmpaz6kgcro-1.png', 'test_score_images/tmpf9xjqua9-1.png', 'test_score_images/tmp6hk9m68g-1.png']\n"
     ]
    },
    {
     "data": {
      "text/plain": [
       "[['/var/folders/tt/j5m0x77x21j4d074z9vtrmrc0000gn/T/music21/tmp5e_4qqsx-1.png',\n",
       "  '/var/folders/tt/j5m0x77x21j4d074z9vtrmrc0000gn/T/music21/tmpimp42gmm-1.png',\n",
       "  '/var/folders/tt/j5m0x77x21j4d074z9vtrmrc0000gn/T/music21/tmpg8zx2186-1.png'],\n",
       " ['/var/folders/tt/j5m0x77x21j4d074z9vtrmrc0000gn/T/music21/tmpkjc182el-1.png',\n",
       "  '/var/folders/tt/j5m0x77x21j4d074z9vtrmrc0000gn/T/music21/tmpdwhuv0oz-1.png',\n",
       "  '/var/folders/tt/j5m0x77x21j4d074z9vtrmrc0000gn/T/music21/tmpuxoswjmw-1.png'],\n",
       " ['/var/folders/tt/j5m0x77x21j4d074z9vtrmrc0000gn/T/music21/tmpddixzpgp-1.png',\n",
       "  '/var/folders/tt/j5m0x77x21j4d074z9vtrmrc0000gn/T/music21/tmpnkxxihh_-1.png',\n",
       "  '/var/folders/tt/j5m0x77x21j4d074z9vtrmrc0000gn/T/music21/tmpog2rlxzd-1.png'],\n",
       " ['/var/folders/tt/j5m0x77x21j4d074z9vtrmrc0000gn/T/music21/tmpuzgfenhp-1.png',\n",
       "  '/var/folders/tt/j5m0x77x21j4d074z9vtrmrc0000gn/T/music21/tmpjztoyias-1.png',\n",
       "  '/var/folders/tt/j5m0x77x21j4d074z9vtrmrc0000gn/T/music21/tmpgd0ue3jn-1.png'],\n",
       " ['/var/folders/tt/j5m0x77x21j4d074z9vtrmrc0000gn/T/music21/tmp_6j669n4-1.png',\n",
       "  '/var/folders/tt/j5m0x77x21j4d074z9vtrmrc0000gn/T/music21/tmpupi7k_l9-1.png',\n",
       "  '/var/folders/tt/j5m0x77x21j4d074z9vtrmrc0000gn/T/music21/tmp40kxh7k2-1.png'],\n",
       " ['/var/folders/tt/j5m0x77x21j4d074z9vtrmrc0000gn/T/music21/tmpjm22jzpw-1.png',\n",
       "  '/var/folders/tt/j5m0x77x21j4d074z9vtrmrc0000gn/T/music21/tmppnh_gh5a-1.png',\n",
       "  '/var/folders/tt/j5m0x77x21j4d074z9vtrmrc0000gn/T/music21/tmph1z8ccbw-1.png'],\n",
       " ['/var/folders/tt/j5m0x77x21j4d074z9vtrmrc0000gn/T/music21/tmpk9fawm8t-1.png',\n",
       "  '/var/folders/tt/j5m0x77x21j4d074z9vtrmrc0000gn/T/music21/tmp_rsavgs3-1.png',\n",
       "  '/var/folders/tt/j5m0x77x21j4d074z9vtrmrc0000gn/T/music21/tmpb4ffjzmt-1.png'],\n",
       " ['/var/folders/tt/j5m0x77x21j4d074z9vtrmrc0000gn/T/music21/tmprhtgsa6i-1.png',\n",
       "  '/var/folders/tt/j5m0x77x21j4d074z9vtrmrc0000gn/T/music21/tmpz_nmjor7-1.png',\n",
       "  '/var/folders/tt/j5m0x77x21j4d074z9vtrmrc0000gn/T/music21/tmplvt9wnhg-1.png'],\n",
       " ['/var/folders/tt/j5m0x77x21j4d074z9vtrmrc0000gn/T/music21/tmpuppayrmt-1.png',\n",
       "  '/var/folders/tt/j5m0x77x21j4d074z9vtrmrc0000gn/T/music21/tmp2tcbspqi-1.png',\n",
       "  '/var/folders/tt/j5m0x77x21j4d074z9vtrmrc0000gn/T/music21/tmpf1vk26zw-1.png'],\n",
       " ['/var/folders/tt/j5m0x77x21j4d074z9vtrmrc0000gn/T/music21/tmpzgzhv66c-1.png',\n",
       "  '/var/folders/tt/j5m0x77x21j4d074z9vtrmrc0000gn/T/music21/tmpjw_k7kx6-1.png',\n",
       "  '/var/folders/tt/j5m0x77x21j4d074z9vtrmrc0000gn/T/music21/tmpx4wi4_wv-1.png'],\n",
       " ['/var/folders/tt/j5m0x77x21j4d074z9vtrmrc0000gn/T/music21/tmpcvttwykh-1.png',\n",
       "  '/var/folders/tt/j5m0x77x21j4d074z9vtrmrc0000gn/T/music21/tmpyxz21ua7-1.png',\n",
       "  '/var/folders/tt/j5m0x77x21j4d074z9vtrmrc0000gn/T/music21/tmpeqfz3v0n-1.png'],\n",
       " ['/var/folders/tt/j5m0x77x21j4d074z9vtrmrc0000gn/T/music21/tmpaaq0dt3j-1.png',\n",
       "  '/var/folders/tt/j5m0x77x21j4d074z9vtrmrc0000gn/T/music21/tmp9wxwglhr-1.png',\n",
       "  '/var/folders/tt/j5m0x77x21j4d074z9vtrmrc0000gn/T/music21/tmpuxnd7eth-1.png'],\n",
       " ['/var/folders/tt/j5m0x77x21j4d074z9vtrmrc0000gn/T/music21/tmpi752wbq5-1.png',\n",
       "  '/var/folders/tt/j5m0x77x21j4d074z9vtrmrc0000gn/T/music21/tmp5xa0nk4k-1.png',\n",
       "  '/var/folders/tt/j5m0x77x21j4d074z9vtrmrc0000gn/T/music21/tmph_owkxdu-1.png'],\n",
       " ['/var/folders/tt/j5m0x77x21j4d074z9vtrmrc0000gn/T/music21/tmpvpjxgr8v-1.png',\n",
       "  '/var/folders/tt/j5m0x77x21j4d074z9vtrmrc0000gn/T/music21/tmpkvhuy2za-1.png',\n",
       "  '/var/folders/tt/j5m0x77x21j4d074z9vtrmrc0000gn/T/music21/tmpvei4eyjq-1.png'],\n",
       " ['/var/folders/tt/j5m0x77x21j4d074z9vtrmrc0000gn/T/music21/tmpa_me1tcs-1.png',\n",
       "  '/var/folders/tt/j5m0x77x21j4d074z9vtrmrc0000gn/T/music21/tmppn20xqpt-1.png',\n",
       "  '/var/folders/tt/j5m0x77x21j4d074z9vtrmrc0000gn/T/music21/tmpz90591tz-1.png'],\n",
       " ['/var/folders/tt/j5m0x77x21j4d074z9vtrmrc0000gn/T/music21/tmpoq6e49is-1.png',\n",
       "  '/var/folders/tt/j5m0x77x21j4d074z9vtrmrc0000gn/T/music21/tmpckdahwbi-1.png',\n",
       "  '/var/folders/tt/j5m0x77x21j4d074z9vtrmrc0000gn/T/music21/tmpcjm1rpo4-1.png'],\n",
       " ['/var/folders/tt/j5m0x77x21j4d074z9vtrmrc0000gn/T/music21/tmpwsfcxyt3-1.png',\n",
       "  '/var/folders/tt/j5m0x77x21j4d074z9vtrmrc0000gn/T/music21/tmp6ewc5bxl-1.png',\n",
       "  '/var/folders/tt/j5m0x77x21j4d074z9vtrmrc0000gn/T/music21/tmp62e9v_fa-1.png'],\n",
       " ['/var/folders/tt/j5m0x77x21j4d074z9vtrmrc0000gn/T/music21/tmpaz6kgcro-1.png',\n",
       "  '/var/folders/tt/j5m0x77x21j4d074z9vtrmrc0000gn/T/music21/tmpf9xjqua9-1.png',\n",
       "  '/var/folders/tt/j5m0x77x21j4d074z9vtrmrc0000gn/T/music21/tmp6hk9m68g-1.png']]"
      ]
     },
     "execution_count": 147,
     "metadata": {},
     "output_type": "execute_result"
    }
   ],
   "source": [
    "test_files_copy = test_files\n",
    "test_files_copy[0] = test_files_copy[0][:18]\n",
    "write_to_score(test_files_copy)"
   ]
  }
 ],
 "metadata": {
  "kernelspec": {
   "display_name": "Python 3",
   "language": "python",
   "name": "python3"
  },
  "language_info": {
   "codemirror_mode": {
    "name": "ipython",
    "version": 3
   },
   "file_extension": ".py",
   "mimetype": "text/x-python",
   "name": "python",
   "nbconvert_exporter": "python",
   "pygments_lexer": "ipython3",
   "version": "3.7.4"
  }
 },
 "nbformat": 4,
 "nbformat_minor": 2
}
